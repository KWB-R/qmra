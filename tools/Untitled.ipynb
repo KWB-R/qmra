{
 "cells": [
  {
   "cell_type": "code",
   "execution_count": 2,
   "id": "caroline-penetration",
   "metadata": {},
   "outputs": [],
   "source": [
    "from qmratool.models import *\n",
    "from django_pandas.io import read_frame"
   ]
  },
  {
   "cell_type": "code",
   "execution_count": 4,
   "id": "worse-barcelona",
   "metadata": {},
   "outputs": [
    {
     "data": {
      "text/html": [
       "<div>\n",
       "<style scoped>\n",
       "    .dataframe tbody tr th:only-of-type {\n",
       "        vertical-align: middle;\n",
       "    }\n",
       "\n",
       "    .dataframe tbody tr th {\n",
       "        vertical-align: top;\n",
       "    }\n",
       "\n",
       "    .dataframe thead th {\n",
       "        text-align: right;\n",
       "    }\n",
       "</style>\n",
       "<table border=\"1\" class=\"dataframe\">\n",
       "  <thead>\n",
       "    <tr style=\"text-align: right;\">\n",
       "      <th></th>\n",
       "      <th>id</th>\n",
       "      <th>user</th>\n",
       "      <th>name</th>\n",
       "      <th>description</th>\n",
       "      <th>source</th>\n",
       "      <th>exposure</th>\n",
       "    </tr>\n",
       "  </thead>\n",
       "  <tbody>\n",
       "    <tr>\n",
       "      <th>0</th>\n",
       "      <td>2</td>\n",
       "      <td>admin</td>\n",
       "      <td>Second assessment</td>\n",
       "      <td>This risk assessment focuses on the risk resul...</td>\n",
       "      <td>sewage, treated</td>\n",
       "      <td>drinking water</td>\n",
       "    </tr>\n",
       "    <tr>\n",
       "      <th>1</th>\n",
       "      <td>4</td>\n",
       "      <td>admin</td>\n",
       "      <td>New risk assessment</td>\n",
       "      <td>This risk assessment serves as an alternative ...</td>\n",
       "      <td>sewage, treated</td>\n",
       "      <td>drinking water</td>\n",
       "    </tr>\n",
       "    <tr>\n",
       "      <th>2</th>\n",
       "      <td>5</td>\n",
       "      <td>wseis</td>\n",
       "      <td>Braunschweig status quo</td>\n",
       "      <td>This risk assessement aims quantifying health ...</td>\n",
       "      <td>sewage, raw</td>\n",
       "      <td>irrigation, unrestricted</td>\n",
       "    </tr>\n",
       "    <tr>\n",
       "      <th>3</th>\n",
       "      <td>6</td>\n",
       "      <td>wseis</td>\n",
       "      <td>Braunschweig Filtration UV</td>\n",
       "      <td>Risk assessment for restricted irrigation afte...</td>\n",
       "      <td>sewage, raw</td>\n",
       "      <td>irrigation, unrestricted</td>\n",
       "    </tr>\n",
       "    <tr>\n",
       "      <th>4</th>\n",
       "      <td>7</td>\n",
       "      <td>wseis</td>\n",
       "      <td>Braunschweig Filtration</td>\n",
       "      <td>Risk assessment for unrestricted irrigation af...</td>\n",
       "      <td>sewage, raw</td>\n",
       "      <td>irrigation, unrestricted</td>\n",
       "    </tr>\n",
       "  </tbody>\n",
       "</table>\n",
       "</div>"
      ],
      "text/plain": [
       "   id   user                        name  \\\n",
       "0   2  admin           Second assessment   \n",
       "1   4  admin         New risk assessment   \n",
       "2   5  wseis     Braunschweig status quo   \n",
       "3   6  wseis  Braunschweig Filtration UV   \n",
       "4   7  wseis     Braunschweig Filtration   \n",
       "\n",
       "                                         description           source  \\\n",
       "0  This risk assessment focuses on the risk resul...  sewage, treated   \n",
       "1  This risk assessment serves as an alternative ...  sewage, treated   \n",
       "2  This risk assessement aims quantifying health ...      sewage, raw   \n",
       "3  Risk assessment for restricted irrigation afte...      sewage, raw   \n",
       "4  Risk assessment for unrestricted irrigation af...      sewage, raw   \n",
       "\n",
       "                   exposure  \n",
       "0            drinking water  \n",
       "1            drinking water  \n",
       "2  irrigation, unrestricted  \n",
       "3  irrigation, unrestricted  \n",
       "4  irrigation, unrestricted  "
      ]
     },
     "execution_count": 4,
     "metadata": {},
     "output_type": "execute_result"
    }
   ],
   "source": [
    "read_frame(RiskAssessment.objects.all())"
   ]
  },
  {
   "cell_type": "code",
   "execution_count": null,
   "id": "departmental-romance",
   "metadata": {},
   "outputs": [],
   "source": []
  }
 ],
 "metadata": {
  "kernelspec": {
   "display_name": "Django Shell-Plus",
   "language": "python",
   "name": "django_extensions"
  },
  "language_info": {
   "codemirror_mode": {
    "name": "ipython",
    "version": 3
   },
   "file_extension": ".py",
   "mimetype": "text/x-python",
   "name": "python",
   "nbconvert_exporter": "python",
   "pygments_lexer": "ipython3",
   "version": "3.9.1"
  }
 },
 "nbformat": 4,
 "nbformat_minor": 5
}
